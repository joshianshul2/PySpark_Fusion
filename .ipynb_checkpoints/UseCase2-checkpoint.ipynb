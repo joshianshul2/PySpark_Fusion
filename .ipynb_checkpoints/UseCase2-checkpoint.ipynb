{
 "cells": [
  {
   "cell_type": "code",
   "execution_count": 5,
   "id": "eb02d3b5",
   "metadata": {},
   "outputs": [],
   "source": [
    "from pyspark.sql import SparkSession"
   ]
  },
  {
   "cell_type": "code",
   "execution_count": 6,
   "id": "c1fd5513",
   "metadata": {},
   "outputs": [
    {
     "name": "stderr",
     "output_type": "stream",
     "text": [
      "22/05/07 23:16:58 WARN Utils: Your hostname, Anshuls-MacBook-Pro.local resolves to a loopback address: 127.0.0.1; using 192.168.1.9 instead (on interface en0)\n",
      "22/05/07 23:16:58 WARN Utils: Set SPARK_LOCAL_IP if you need to bind to another address\n",
      "Using Spark's default log4j profile: org/apache/spark/log4j-defaults.properties\n",
      "Setting default log level to \"WARN\".\n",
      "To adjust logging level use sc.setLogLevel(newLevel). For SparkR, use setLogLevel(newLevel).\n",
      "22/05/07 23:16:59 WARN NativeCodeLoader: Unable to load native-hadoop library for your platform... using builtin-java classes where applicable\n",
      "22/05/07 23:17:00 WARN Utils: Service 'SparkUI' could not bind on port 4040. Attempting port 4041.\n"
     ]
    }
   ],
   "source": [
    "spark = SparkSession.builder.appName('Loan').getOrCreate()"
   ]
  },
  {
   "cell_type": "code",
   "execution_count": 7,
   "id": "b348800a",
   "metadata": {},
   "outputs": [
    {
     "name": "stderr",
     "output_type": "stream",
     "text": [
      "                                                                                \r"
     ]
    }
   ],
   "source": [
    "df = spark.read.option('header','True').csv('credit card.csv')"
   ]
  },
  {
   "cell_type": "code",
   "execution_count": 8,
   "id": "2eb90c41",
   "metadata": {},
   "outputs": [
    {
     "name": "stdout",
     "output_type": "stream",
     "text": [
      "+---------+----------+---------+-----------+---------+------+---+------+---------+-------------+--------------+---------------+------+\n",
      "|RowNumber|CustomerId|  Surname|CreditScore|Geography|Gender|Age|Tenure|  Balance|NumOfProducts|IsActiveMember|EstimatedSalary|Exited|\n",
      "+---------+----------+---------+-----------+---------+------+---+------+---------+-------------+--------------+---------------+------+\n",
      "|        1|  15634602| Hargrave|        619|   France|Female| 42|     2|        0|            1|             1|      101348.88|     1|\n",
      "|        2|  15647311|     Hill|        608|    Spain|Female| 41|     1| 83807.86|            1|             1|      112542.58|     0|\n",
      "|        3|  15619304|     Onio|        502|   France|Female| 42|     8| 159660.8|            3|             0|      113931.57|     1|\n",
      "|        4|  15701354|     Boni|        699|   France|Female| 39|     1|        0|            2|             0|       93826.63|     0|\n",
      "|        5|  15737888| Mitchell|        850|    Spain|Female| 43|     2|125510.82|            1|             1|        79084.1|     0|\n",
      "|        6|  15574012|      Chu|        645|    Spain|  Male| 44|     8|113755.78|            2|             0|      149756.71|     1|\n",
      "|        7|  15592531| Bartlett|        822|   France|  Male| 50|     7|        0|            2|             1|        10062.8|     0|\n",
      "|        8|  15656148|   Obinna|        376|  Germany|Female| 29|     4|115046.74|            4|             0|      119346.88|     1|\n",
      "|        9|  15792365|       He|        501|   France|  Male| 44|     4|142051.07|            2|             1|        74940.5|     0|\n",
      "|       10|  15592389|       H?|        684|   France|  Male| 27|     2|134603.88|            1|             1|       71725.73|     0|\n",
      "|       11|  15767821|   Bearce|        528|   France|  Male| 31|     6|102016.72|            2|             0|       80181.12|     0|\n",
      "|       12|  15737173|  Andrews|        497|    Spain|  Male| 24|     3|        0|            2|             0|       76390.01|     0|\n",
      "|       13|  15632264|      Kay|        476|   France|Female| 34|    10|        0|            2|             0|       26260.98|     0|\n",
      "|       14|  15691483|     Chin|        549|   France|Female| 25|     5|        0|            2|             0|      190857.79|     0|\n",
      "|       15|  15600882|    Scott|        635|    Spain|Female| 35|     7|        0|            2|             1|       65951.65|     0|\n",
      "|       16|  15643966|  Goforth|        616|  Germany|  Male| 45|     3|143129.41|            2|             1|       64327.26|     0|\n",
      "|       17|  15737452|    Romeo|        653|  Germany|  Male| 58|     1|132602.88|            1|             0|        5097.67|     1|\n",
      "|       18|  15788218|Henderson|        549|    Spain|Female| 24|     9|        0|            2|             1|       14406.41|     0|\n",
      "|       19|  15661507|  Muldrow|        587|    Spain|  Male| 45|     6|        0|            1|             0|      158684.81|     0|\n",
      "|       20|  15568982|      Hao|        726|   France|Female| 24|     6|        0|            2|             1|       54724.03|     0|\n",
      "+---------+----------+---------+-----------+---------+------+---+------+---------+-------------+--------------+---------------+------+\n",
      "only showing top 20 rows\n",
      "\n"
     ]
    }
   ],
   "source": [
    "df.show()"
   ]
  },
  {
   "cell_type": "code",
   "execution_count": 9,
   "id": "a4df5075",
   "metadata": {},
   "outputs": [
    {
     "data": {
      "text/plain": [
       "['RowNumber',\n",
       " 'CustomerId',\n",
       " 'Surname',\n",
       " 'CreditScore',\n",
       " 'Geography',\n",
       " 'Gender',\n",
       " 'Age',\n",
       " 'Tenure',\n",
       " 'Balance',\n",
       " 'NumOfProducts',\n",
       " 'IsActiveMember',\n",
       " 'EstimatedSalary',\n",
       " 'Exited']"
      ]
     },
     "execution_count": 9,
     "metadata": {},
     "output_type": "execute_result"
    }
   ],
   "source": [
    "df.columns"
   ]
  },
  {
   "cell_type": "code",
   "execution_count": 10,
   "id": "5b6d19de",
   "metadata": {},
   "outputs": [],
   "source": [
    "from pyspark.sql.functions import col"
   ]
  },
  {
   "cell_type": "code",
   "execution_count": 11,
   "id": "01d9052a",
   "metadata": {},
   "outputs": [],
   "source": [
    "df2 = df.filter(col(\"CreditScore\") > 700) # greater cs 700"
   ]
  },
  {
   "cell_type": "code",
   "execution_count": 12,
   "id": "2495b5eb",
   "metadata": {},
   "outputs": [
    {
     "data": {
      "text/plain": [
       "3116"
      ]
     },
     "execution_count": 12,
     "metadata": {},
     "output_type": "execute_result"
    }
   ],
   "source": [
    "df2.count()"
   ]
  },
  {
   "cell_type": "code",
   "execution_count": 13,
   "id": "393575b4",
   "metadata": {},
   "outputs": [
    {
     "name": "stdout",
     "output_type": "stream",
     "text": [
      "+----------------+\n",
      "|sum(CreditScore)|\n",
      "+----------------+\n",
      "|       6505288.0|\n",
      "+----------------+\n",
      "\n"
     ]
    }
   ],
   "source": [
    "import pyspark.sql.functions as F\n",
    "df.groupBy().agg(F.sum(col(\"CreditScore\"))).show()"
   ]
  },
  {
   "cell_type": "code",
   "execution_count": 14,
   "id": "fa4efa1f",
   "metadata": {},
   "outputs": [
    {
     "name": "stdout",
     "output_type": "stream",
     "text": [
      "+----------------+\n",
      "|sum(CreditScore)|\n",
      "+----------------+\n",
      "|       6505288.0|\n",
      "+----------------+\n",
      "\n"
     ]
    }
   ],
   "source": [
    "df.groupBy().agg(F.sum(col(\"CreditScore\"))).show()"
   ]
  },
  {
   "cell_type": "code",
   "execution_count": 15,
   "id": "e700f0fd",
   "metadata": {},
   "outputs": [
    {
     "data": {
      "text/plain": [
       "10000"
      ]
     },
     "execution_count": 15,
     "metadata": {},
     "output_type": "execute_result"
    }
   ],
   "source": [
    "df.count()"
   ]
  },
  {
   "cell_type": "code",
   "execution_count": 16,
   "id": "677116f9",
   "metadata": {},
   "outputs": [
    {
     "data": {
      "text/plain": [
       "1637"
      ]
     },
     "execution_count": 16,
     "metadata": {},
     "output_type": "execute_result"
    }
   ],
   "source": [
    "df2.filter((col(\"IsActiveMember\")==1) & (col(\"CreditScore\") > 700)).count() # no of Active Users"
   ]
  },
  {
   "cell_type": "code",
   "execution_count": 17,
   "id": "22a24634",
   "metadata": {},
   "outputs": [],
   "source": [
    "df4 = df.groupBy('CustomerId').agg(F.count(col('Balance')))"
   ]
  },
  {
   "cell_type": "code",
   "execution_count": 18,
   "id": "1467fa7c",
   "metadata": {},
   "outputs": [
    {
     "name": "stdout",
     "output_type": "stream",
     "text": [
      "+----------+--------------+\n",
      "|CustomerId|count(Balance)|\n",
      "+----------+--------------+\n",
      "|  15693683|             1|\n",
      "|  15724282|             1|\n",
      "|  15588350|             1|\n",
      "|  15637979|             1|\n",
      "|  15775306|             1|\n",
      "|  15794048|             1|\n",
      "|  15743532|             1|\n",
      "|  15596493|             1|\n",
      "|  15751158|             1|\n",
      "|  15706163|             1|\n",
      "|  15606267|             1|\n",
      "|  15802060|             1|\n",
      "|  15728224|             1|\n",
      "|  15662884|             1|\n",
      "|  15748854|             1|\n",
      "|  15783030|             1|\n",
      "|  15593555|             1|\n",
      "|  15663386|             1|\n",
      "|  15762134|             1|\n",
      "|  15581295|             1|\n",
      "+----------+--------------+\n",
      "only showing top 20 rows\n",
      "\n"
     ]
    }
   ],
   "source": [
    "df4.show()"
   ]
  },
  {
   "cell_type": "code",
   "execution_count": 19,
   "id": "f25c7b54",
   "metadata": {},
   "outputs": [
    {
     "data": {
      "text/plain": [
       "10000"
      ]
     },
     "execution_count": 19,
     "metadata": {},
     "output_type": "execute_result"
    }
   ],
   "source": [
    "df4.count()"
   ]
  },
  {
   "cell_type": "code",
   "execution_count": 20,
   "id": "49fac5f1",
   "metadata": {},
   "outputs": [],
   "source": [
    "#Maximum withdrawal amount for each account "
   ]
  },
  {
   "cell_type": "code",
   "execution_count": 21,
   "id": "1d1fec97",
   "metadata": {},
   "outputs": [
    {
     "name": "stdout",
     "output_type": "stream",
     "text": [
      "+----------+------------+\n",
      "|CustomerId|max(Balance)|\n",
      "+----------+------------+\n",
      "|  15565701|   161993.89|\n",
      "|  15565706|           0|\n",
      "|  15565714|    64430.06|\n",
      "|  15565779|    57809.32|\n",
      "|  15565796|    96048.55|\n",
      "|  15565806|           0|\n",
      "|  15565878|           0|\n",
      "|  15565879|           0|\n",
      "|  15565891|           0|\n",
      "|  15565996|           0|\n",
      "|  15566030|    80542.81|\n",
      "|  15566091|           0|\n",
      "|  15566111|           0|\n",
      "|  15566139|    53573.18|\n",
      "|  15566156|    71497.79|\n",
      "|  15566211|   103560.57|\n",
      "|  15566251|    96652.86|\n",
      "|  15566253|   143391.07|\n",
      "|  15566269|           0|\n",
      "|  15566292|           0|\n",
      "+----------+------------+\n",
      "only showing top 20 rows\n",
      "\n"
     ]
    }
   ],
   "source": [
    "df.groupBy('CustomerId').agg(F.max(col('Balance'))).show()"
   ]
  },
  {
   "cell_type": "code",
   "execution_count": 22,
   "id": "f091e3e2",
   "metadata": {},
   "outputs": [],
   "source": [
    "#sum of balance in every bank account\n",
    "df6 = df.groupBy('CustomerId').agg(F.sum(col('Balance')))"
   ]
  },
  {
   "cell_type": "code",
   "execution_count": 23,
   "id": "210c009c",
   "metadata": {},
   "outputs": [
    {
     "name": "stdout",
     "output_type": "stream",
     "text": [
      "+----------+------------+\n",
      "|CustomerId|sum(Balance)|\n",
      "+----------+------------+\n",
      "|  15693683|     97086.4|\n",
      "|  15724282|   164113.04|\n",
      "|  15588350|   147832.15|\n",
      "|  15637979|   127160.78|\n",
      "|  15775306|   122384.22|\n",
      "|  15794048|    97133.92|\n",
      "|  15743532|   147004.34|\n",
      "|  15596493|         0.0|\n",
      "|  15751158|   108825.34|\n",
      "|  15706163|   113625.93|\n",
      "|  15606267|    98640.74|\n",
      "|  15802060|   100548.67|\n",
      "|  15728224|   149155.53|\n",
      "|  15662884|   110597.76|\n",
      "|  15748854|    91938.31|\n",
      "|  15783030|         0.0|\n",
      "|  15593555|         0.0|\n",
      "|  15663386|         0.0|\n",
      "|  15762134|    119152.1|\n",
      "|  15581295|         0.0|\n",
      "+----------+------------+\n",
      "only showing top 20 rows\n",
      "\n"
     ]
    }
   ],
   "source": [
    "df6.show()"
   ]
  },
  {
   "cell_type": "code",
   "execution_count": 24,
   "id": "0f6ad01e",
   "metadata": {},
   "outputs": [],
   "source": [
    "#Number of transaction on each date (date is not their)\n"
   ]
  },
  {
   "cell_type": "code",
   "execution_count": 25,
   "id": "7407cee9",
   "metadata": {},
   "outputs": [],
   "source": [
    "df_txn= spark.read.option('header','True').csv('txn.csv')"
   ]
  },
  {
   "cell_type": "code",
   "execution_count": 26,
   "id": "01b01611",
   "metadata": {},
   "outputs": [
    {
     "name": "stdout",
     "output_type": "stream",
     "text": [
      "+-------------+--------------------+----------+----------------+-------------+-----------+\n",
      "|   Account No| TRANSACTION DETAILS|VALUE DATE| WITHDRAWAL AMT | DEPOSIT AMT |BALANCE AMT|\n",
      "+-------------+--------------------+----------+----------------+-------------+-----------+\n",
      "|409000611074'|TRF FROM  Indiafo...| 29-Jun-17|            null|      1000000|    1000000|\n",
      "|409000611074'|TRF FROM  Indiafo...|  5-Jul-17|            null|      1000000|    2000000|\n",
      "|409000611074'|FDRL/INTERNAL FUN...| 18-Jul-17|            null|       500000|    2500000|\n",
      "|409000611074'|TRF FRM  Indiafor...|  1-Aug-17|            null|      3000000|    5500000|\n",
      "|409000611074'|FDRL/INTERNAL FUN...| 16-Aug-17|            null|       500000|    6000000|\n",
      "|409000611074'|FDRL/INTERNAL FUN...| 16-Aug-17|            null|       500000|    6500000|\n",
      "|409000611074'|FDRL/INTERNAL FUN...| 16-Aug-17|            null|       500000|    7000000|\n",
      "|409000611074'|FDRL/INTERNAL FUN...| 16-Aug-17|            null|       500000|    7500000|\n",
      "|409000611074'|FDRL/INTERNAL FUN...| 16-Aug-17|            null|       500000|    8000000|\n",
      "|409000611074'|FDRL/INTERNAL FUN...| 16-Aug-17|            null|       500000|    8500000|\n",
      "+-------------+--------------------+----------+----------------+-------------+-----------+\n",
      "only showing top 10 rows\n",
      "\n"
     ]
    }
   ],
   "source": [
    "df_txn.show(10)"
   ]
  },
  {
   "cell_type": "code",
   "execution_count": 27,
   "id": "948d6389",
   "metadata": {},
   "outputs": [],
   "source": [
    "df5 = df_txn.groupBy('Account No').agg(F.count(col('TRANSACTION DETAILS')))"
   ]
  },
  {
   "cell_type": "code",
   "execution_count": 28,
   "id": "c6369b6f",
   "metadata": {},
   "outputs": [
    {
     "name": "stdout",
     "output_type": "stream",
     "text": [
      "+-------------+--------------------------+\n",
      "|   Account No|count(TRANSACTION DETAILS)|\n",
      "+-------------+--------------------------+\n",
      "|409000438611'|                      4588|\n",
      "|     1196711'|                     10521|\n",
      "|     1196428'|                     48779|\n",
      "|409000493210'|                      6014|\n",
      "|409000611074'|                      1093|\n",
      "|409000425051'|                       802|\n",
      "|409000405747'|                        51|\n",
      "|409000493201'|                      1044|\n",
      "|409000438620'|                     13454|\n",
      "|409000362497'|                     27356|\n",
      "+-------------+--------------------------+\n",
      "\n"
     ]
    }
   ],
   "source": [
    "df5.show(10)"
   ]
  },
  {
   "cell_type": "code",
   "execution_count": 29,
   "id": "d84b8729",
   "metadata": {},
   "outputs": [],
   "source": [
    "df5_alt = df_txn.groupBy('Account No').agg(F.count(col('VALUE DATE')))"
   ]
  },
  {
   "cell_type": "code",
   "execution_count": 30,
   "id": "4717ea10",
   "metadata": {},
   "outputs": [
    {
     "name": "stdout",
     "output_type": "stream",
     "text": [
      "+-------------+-----------------+\n",
      "|   Account No|count(VALUE DATE)|\n",
      "+-------------+-----------------+\n",
      "|409000438611'|             4588|\n",
      "|     1196711'|            10536|\n",
      "|     1196428'|            48779|\n",
      "|409000493210'|             6014|\n",
      "|409000611074'|             1093|\n",
      "|409000425051'|              802|\n",
      "|409000405747'|               51|\n",
      "|409000493201'|             1044|\n",
      "|409000438620'|            13454|\n",
      "|409000362497'|            29840|\n",
      "+-------------+-----------------+\n",
      "\n"
     ]
    }
   ],
   "source": [
    "df5_alt.show(10)"
   ]
  },
  {
   "cell_type": "code",
   "execution_count": 31,
   "id": "95427aa8",
   "metadata": {},
   "outputs": [],
   "source": [
    "# sum of balance in every bank account"
   ]
  },
  {
   "cell_type": "code",
   "execution_count": 32,
   "id": "2a2ae683",
   "metadata": {},
   "outputs": [],
   "source": [
    "df_sum = df_txn.groupBy('Account No').agg(F.sum(col('BALANCE AMT')))"
   ]
  },
  {
   "cell_type": "code",
   "execution_count": 33,
   "id": "f9d4a1d6",
   "metadata": {},
   "outputs": [
    {
     "name": "stdout",
     "output_type": "stream",
     "text": [
      "+-------------+----------------------+\n",
      "|Account No   |sum(BALANCE AMT)      |\n",
      "+-------------+----------------------+\n",
      "|409000438611'|-2.4948657706833955E12|\n",
      "|1196711'     |-1.60476498101275E13  |\n",
      "|1196428'     |-8.1418498130721E13   |\n",
      "|409000493210'|-3.2758495213209575E12|\n",
      "|409000611074'|1.615533622E9         |\n",
      "|409000425051'|-3.7721184116499877E9 |\n",
      "|409000405747'|-2.4310804706700016E10|\n",
      "|409000493201'|1.0420831829499985E9  |\n",
      "|409000438620'|-7.122918679513586E12 |\n",
      "|409000362497'|-5.2860004792808E13   |\n",
      "+-------------+----------------------+\n",
      "\n"
     ]
    }
   ],
   "source": [
    "df_sum.show(10,False) # DCS"
   ]
  },
  {
   "cell_type": "code",
   "execution_count": 34,
   "id": "edf155de",
   "metadata": {},
   "outputs": [],
   "source": [
    "#Number of transaction on each date"
   ]
  },
  {
   "cell_type": "code",
   "execution_count": 37,
   "id": "d6ca36f8",
   "metadata": {},
   "outputs": [],
   "source": [
    "df_cnt = df_txn.groupBy('Account No').agg(F.count(col('TRANSACTION DETAILS')))"
   ]
  },
  {
   "cell_type": "code",
   "execution_count": 38,
   "id": "5b8850f7",
   "metadata": {},
   "outputs": [
    {
     "name": "stdout",
     "output_type": "stream",
     "text": [
      "+-------------+--------------------------+\n",
      "|   Account No|count(TRANSACTION DETAILS)|\n",
      "+-------------+--------------------------+\n",
      "|409000438611'|                      4588|\n",
      "|     1196711'|                     10521|\n",
      "|     1196428'|                     48779|\n",
      "|409000493210'|                      6014|\n",
      "|409000611074'|                      1093|\n",
      "|409000425051'|                       802|\n",
      "|409000405747'|                        51|\n",
      "|409000493201'|                      1044|\n",
      "|409000438620'|                     13454|\n",
      "|409000362497'|                     27356|\n",
      "+-------------+--------------------------+\n",
      "\n"
     ]
    }
   ],
   "source": [
    "df_cnt.show()"
   ]
  },
  {
   "cell_type": "code",
   "execution_count": null,
   "id": "be78c834",
   "metadata": {},
   "outputs": [],
   "source": []
  }
 ],
 "metadata": {
  "kernelspec": {
   "display_name": "Python 3 (ipykernel)",
   "language": "python",
   "name": "python3"
  },
  "language_info": {
   "codemirror_mode": {
    "name": "ipython",
    "version": 3
   },
   "file_extension": ".py",
   "mimetype": "text/x-python",
   "name": "python",
   "nbconvert_exporter": "python",
   "pygments_lexer": "ipython3",
   "version": "3.9.7"
  }
 },
 "nbformat": 4,
 "nbformat_minor": 5
}
