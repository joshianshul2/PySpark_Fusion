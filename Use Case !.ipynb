{
 "cells": [
  {
   "cell_type": "code",
   "execution_count": 2,
   "id": "4e024431",
   "metadata": {},
   "outputs": [
    {
     "name": "stderr",
     "output_type": "stream",
     "text": [
      "22/05/01 12:14:31 WARN Utils: Your hostname, Anshuls-MacBook-Pro.local resolves to a loopback address: 127.0.0.1; using 192.168.1.9 instead (on interface en0)\n",
      "22/05/01 12:14:31 WARN Utils: Set SPARK_LOCAL_IP if you need to bind to another address\n",
      "Using Spark's default log4j profile: org/apache/spark/log4j-defaults.properties\n",
      "Setting default log level to \"WARN\".\n",
      "To adjust logging level use sc.setLogLevel(newLevel). For SparkR, use setLogLevel(newLevel).\n",
      "22/05/01 12:14:32 WARN NativeCodeLoader: Unable to load native-hadoop library for your platform... using builtin-java classes where applicable\n",
      "22/05/01 12:14:33 WARN Utils: Service 'SparkUI' could not bind on port 4040. Attempting port 4041.\n",
      "22/05/01 12:14:33 WARN Utils: Service 'SparkUI' could not bind on port 4041. Attempting port 4042.\n"
     ]
    }
   ],
   "source": [
    "from pyspark.sql import SparkSession\n",
    "spark = SparkSession.builder.appName('UseCase').getOrCreate();"
   ]
  },
  {
   "cell_type": "code",
   "execution_count": 3,
   "id": "edb6a911",
   "metadata": {},
   "outputs": [
    {
     "name": "stderr",
     "output_type": "stream",
     "text": [
      "                                                                                \r"
     ]
    }
   ],
   "source": [
    "df = spark.read.option(\"header\",True).option(\"inferSchema\",True) .csv('loan.csv')\n",
    "# inferSchema is use for creating schema automatically according to their data types"
   ]
  },
  {
   "cell_type": "code",
   "execution_count": 4,
   "id": "97bcfd9a",
   "metadata": {},
   "outputs": [
    {
     "name": "stdout",
     "output_type": "stream",
     "text": [
      "+-----------+---+------+-------------------+--------------+-----------+------+-----------+-------------+------------------+-----------+-------+------------+----------------+------------------+\n",
      "|Customer_ID|Age|Gender|         Occupation|Marital Status|Family Size|Income|Expenditure|Use Frequency|     Loan Category|Loan Amount|Overdue| Debt Record| Returned Cheque| Dishonour of Bill|\n",
      "+-----------+---+------+-------------------+--------------+-----------+------+-----------+-------------+------------------+-----------+-------+------------+----------------+------------------+\n",
      "|    IB14001| 30|  MALE|       BANK MANAGER|        SINGLE|          4| 50000|      22199|            6|           HOUSING| 10,00,000 |      5|      42,898|               6|                 9|\n",
      "|    IB14008| 44|  MALE|          PROFESSOR|       MARRIED|          6| 51000|      19999|            4|          SHOPPING|     50,000|      3|      33,999|               1|                 5|\n",
      "|    IB14012| 30|FEMALE|            DENTIST|        SINGLE|          3| 58450|      27675|            5|        TRAVELLING|     75,000|      6|      20,876|               3|                 1|\n",
      "|    IB14018| 29|  MALE|            TEACHER|       MARRIED|          5| 45767|      12787|            3|         GOLD LOAN|  6,00,000 |      7|      11,000|               0|                 4|\n",
      "|    IB14022| 34|  MALE|             POLICE|        SINGLE|          4| 43521|      11999|            3|        AUTOMOBILE|  2,00,000 |      2|      43,898|               1|                 2|\n",
      "|    IB14024| 55|FEMALE|              NURSE|       MARRIED|          6| 34999|      19888|            4|        AUTOMOBILE|     47,787|      1|      50,000|               0|                 3|\n",
      "|    IB14025| 39|FEMALE|            TEACHER|       MARRIED|          6| 46619|      18675|            4|           HOUSING| 12,09,867 |      8|      29,999|               6|                 8|\n",
      "|    IB14027| 51|  MALE|     SYSTEM MANAGER|       MARRIED|          3| 49999|      19111|            5|       RESTAURANTS|     60,676|      8|      13,000|               2|                 5|\n",
      "|    IB14029| 24|FEMALE|            TEACHER|        SINGLE|          3| 45008|      17454|            4|        AUTOMOBILE|  3,99,435 |      9|      51,987|               4|                 7|\n",
      "|    IB14031| 37|FEMALE|  SOFTWARE ENGINEER|       MARRIED|          5| 55999|      23999|            5|        AUTOMOBILE|     60,999|      2|           0|               5|                 3|\n",
      "|    IB14032| 24|  MALE|       DATA ANALYST|        SINGLE|          4| 60111|      28999|            6|        AUTOMOBILE|     35,232|      5|      33,333|               1|                 2|\n",
      "|    IB14034| 32|  MALE|   PRODUCT ENGINEER|       MARRIED|          6|  null|      29000|            7|COMPUTER SOFTWARES|     80,660|      6|       4,500|               5|                 4|\n",
      "|    IB14037| 54|FEMALE|            TEACHER|       MARRIED|          5| 48099|      19999|            4|       RESTAURANTS|     30,999|      1|      12,000|               7|                 5|\n",
      "|    IB14039| 45|  MALE|    ACCOUNT MANAGER|       MARRIED|          7| 45777|      18452|            4|         GOLD LOAN|  9,87,611 |      7|      39,999|               8|                 1|\n",
      "|    IB14041| 59|FEMALE|ASSISTANT PROFESSOR|       MARRIED|          4| 50999|      22999|            5|  EDUCATIONAL LOAN|  5,99,934 |      3|       9,000|               9|                 9|\n",
      "|    IB14042| 25|FEMALE|             DOCTOR|        SINGLE|          4| 60111|      27111|            5|        TRAVELLING| 12,90,929 |      4|      18,000|               1|                 0|\n",
      "|    IB14045| 31|  MALE|       STORE KEEPER|        SINGLE|          5| 40999|      11999|            3|       BOOK STORES|  1,67,654 |      1|       4,500|               0|                 1|\n",
      "|    IB14049| 49|  MALE|       BANK MANAGER|       MARRIED|          4| 45999|      14500|            4|        TRAVELLING|     79,999|      4|       6,700|               7|                 3|\n",
      "|    IB14050| 56|  MALE|     CIVIL ENGINEER|       MARRIED|          4|  null|      13999|            3|           HOUSING| 10,65,577 |      6|      19,999|               4|                 2|\n",
      "|    IB14054| 58|FEMALE|             DOCTOR|       MARRIED|          5| 60000|      25000|            5|           HOUSING|  9,00,000 |      5|      21,000|               9|                 0|\n",
      "+-----------+---+------+-------------------+--------------+-----------+------+-----------+-------------+------------------+-----------+-------+------------+----------------+------------------+\n",
      "only showing top 20 rows\n",
      "\n"
     ]
    }
   ],
   "source": [
    "df.show()"
   ]
  },
  {
   "cell_type": "code",
   "execution_count": 5,
   "id": "73391c04",
   "metadata": {},
   "outputs": [
    {
     "name": "stdout",
     "output_type": "stream",
     "text": [
      "+---+\n",
      "| AJ|\n",
      "+---+\n",
      "|500|\n",
      "+---+\n",
      "\n"
     ]
    }
   ],
   "source": [
    "from pyspark.sql.functions import *\n",
    "df.groupBy().agg(count(\"*\").alias(\"AJ\")).show()\n",
    "# Alias is use for Giving temp name to the column Name "
   ]
  },
  {
   "cell_type": "code",
   "execution_count": 6,
   "id": "bfeb809e",
   "metadata": {},
   "outputs": [
    {
     "name": "stderr",
     "output_type": "stream",
     "text": [
      "                                                                                \r"
     ]
    },
    {
     "data": {
      "text/plain": [
       "DataFrame[summary: string, Customer_ID: string, Age: string, Gender: string, Occupation: string, Marital Status: string, Family Size: string, Income: string, Expenditure: string, Use Frequency: string, Loan Category: string, Loan Amount: string, Overdue: string,  Debt Record: string,  Returned Cheque: string,  Dishonour of Bill: string]"
      ]
     },
     "execution_count": 6,
     "metadata": {},
     "output_type": "execute_result"
    }
   ],
   "source": [
    "df.describe()"
   ]
  },
  {
   "cell_type": "code",
   "execution_count": 7,
   "id": "1167da1d",
   "metadata": {},
   "outputs": [
    {
     "data": {
      "text/plain": [
       "['Customer_ID',\n",
       " 'Age',\n",
       " 'Gender',\n",
       " 'Occupation',\n",
       " 'Marital Status',\n",
       " 'Family Size',\n",
       " 'Income',\n",
       " 'Expenditure',\n",
       " 'Use Frequency',\n",
       " 'Loan Category',\n",
       " 'Loan Amount',\n",
       " 'Overdue',\n",
       " ' Debt Record',\n",
       " ' Returned Cheque',\n",
       " ' Dishonour of Bill']"
      ]
     },
     "execution_count": 7,
     "metadata": {},
     "output_type": "execute_result"
    }
   ],
   "source": [
    "df.columns"
   ]
  },
  {
   "cell_type": "code",
   "execution_count": 8,
   "id": "5fe1f5e0",
   "metadata": {},
   "outputs": [],
   "source": [
    "# no of users who taken loan more than 1 lac"
   ]
  },
  {
   "cell_type": "code",
   "execution_count": 9,
   "id": "a80c2b8e",
   "metadata": {},
   "outputs": [
    {
     "name": "stdout",
     "output_type": "stream",
     "text": [
      "+-----------+---+------+-----------------+--------------+-----------+------+-----------+-------------+------------------+-----------+-------+------------+----------------+------------------+\n",
      "|Customer_ID|Age|Gender|       Occupation|Marital Status|Family Size|Income|Expenditure|Use Frequency|     Loan Category|Loan Amount|Overdue| Debt Record| Returned Cheque| Dishonour of Bill|\n",
      "+-----------+---+------+-----------------+--------------+-----------+------+-----------+-------------+------------------+-----------+-------+------------+----------------+------------------+\n",
      "|    IB14008| 44|  MALE|        PROFESSOR|       MARRIED|          6| 51000|      19999|            4|          SHOPPING|     50,000|      3|      33,999|               1|                 5|\n",
      "|    IB14012| 30|FEMALE|          DENTIST|        SINGLE|          3| 58450|      27675|            5|        TRAVELLING|     75,000|      6|      20,876|               3|                 1|\n",
      "|    IB14024| 55|FEMALE|            NURSE|       MARRIED|          6| 34999|      19888|            4|        AUTOMOBILE|     47,787|      1|      50,000|               0|                 3|\n",
      "|    IB14027| 51|  MALE|   SYSTEM MANAGER|       MARRIED|          3| 49999|      19111|            5|       RESTAURANTS|     60,676|      8|      13,000|               2|                 5|\n",
      "|    IB14031| 37|FEMALE|SOFTWARE ENGINEER|       MARRIED|          5| 55999|      23999|            5|        AUTOMOBILE|     60,999|      2|           0|               5|                 3|\n",
      "|    IB14032| 24|  MALE|     DATA ANALYST|        SINGLE|          4| 60111|      28999|            6|        AUTOMOBILE|     35,232|      5|      33,333|               1|                 2|\n",
      "|    IB14034| 32|  MALE| PRODUCT ENGINEER|       MARRIED|          6|  null|      29000|            7|COMPUTER SOFTWARES|     80,660|      6|       4,500|               5|                 4|\n",
      "|    IB14037| 54|FEMALE|          TEACHER|       MARRIED|          5| 48099|      19999|            4|       RESTAURANTS|     30,999|      1|      12,000|               7|                 5|\n",
      "|    IB14049| 49|  MALE|     BANK MANAGER|       MARRIED|          4| 45999|      14500|            4|        TRAVELLING|     79,999|      4|       6,700|               7|                 3|\n",
      "|    IB14078| 45|FEMALE|  FIRE DEPARTMENT|       MARRIED|          4| 40000|      18888|            4|        AUTOMOBILE|     70,000|      1|           0|               2|                 1|\n",
      "|    IB14178| 51|  MALE|   SYSTEM MANAGER|       MARRIED|          3| 49999|      19111|            5|       ELECTRONICS|     60,676|      8|      13,000|               2|                 5|\n",
      "|    IB14181| 37|FEMALE|SOFTWARE ENGINEER|       MARRIED|          5| 55999|      23999|            5|   HOME APPLIANCES|     60,999|      2|           0|               5|                 3|\n",
      "|    IB14184| 24|  MALE|     DATA ANALYST|        SINGLE|          4| 60111|      28999|            6|       RESTAURANTS|     35,232|      5|      33,333|               1|                 2|\n",
      "|    IB14186| 44|  MALE|        PROFESSOR|       MARRIED|          6| 59000|      19999|            4|        AUTOMOBILE|     50,000|      3|      33,999|               1|                 5|\n",
      "|    IB14187| 30|FEMALE|          DENTIST|        SINGLE|          3| 58450|      27675|            5|        TRAVELLING|     75,000|      6|      20,876|               3|                 1|\n",
      "|    IB14194| 55|FEMALE|            NURSE|       MARRIED|          6| 34999|      19888|            4|        TRAVELLING|     47,787|      1|      50,000|               0|                 3|\n",
      "|    IB14195| 32|  MALE| PRODUCT ENGINEER|       MARRIED|          6|  null|      29000|            7|          SHOPPING|     80,660|      6|       4,500|               5|                 4|\n",
      "|    IB14197| 54|FEMALE|          TEACHER|       MARRIED|          5| 48099|      19999|            4|       RESTAURANTS|    300,999|      1|      12,000|               7|                 5|\n",
      "|    IB14206| 51|  MALE|   SYSTEM MANAGER|       MARRIED|          3| 39999|      19111|            5|        AUTOMOBILE|     60,676|      8|      13,000|               2|                 5|\n",
      "|    IB14215| 49|  MALE|     BANK MANAGER|       MARRIED|          4| 45999|      14500|            4|        TRAVELLING|     79,999|      4|       6,700|               7|                 3|\n",
      "+-----------+---+------+-----------------+--------------+-----------+------+-----------+-------------+------------------+-----------+-------+------------+----------------+------------------+\n",
      "only showing top 20 rows\n",
      "\n"
     ]
    },
    {
     "name": "stderr",
     "output_type": "stream",
     "text": [
      "22/05/01 16:16:35 WARN HeartbeatReceiver: Removing executor driver with no recent heartbeats: 633347 ms exceeds timeout 120000 ms\n",
      "22/05/01 16:16:35 WARN SparkContext: Killing executors is not supported by current scheduler.\n"
     ]
    }
   ],
   "source": [
    "df.filter(col('Loan Amount')>\"10,00,00\").show()"
   ]
  },
  {
   "cell_type": "code",
   "execution_count": 63,
   "id": "e9400e0c",
   "metadata": {},
   "outputs": [
    {
     "name": "stdout",
     "output_type": "stream",
     "text": [
      "+-----------+\n",
      "|Customer_Id|\n",
      "+-----------+\n",
      "+-----------+\n",
      "\n"
     ]
    }
   ],
   "source": [
    "df1.show()"
   ]
  },
  {
   "cell_type": "code",
   "execution_count": 66,
   "id": "44c7eaec",
   "metadata": {
    "scrolled": true
   },
   "outputs": [
    {
     "name": "stdout",
     "output_type": "stream",
     "text": [
      "root\n",
      " |-- Customer_ID: string (nullable = true)\n",
      " |-- Age: integer (nullable = true)\n",
      " |-- Gender: string (nullable = true)\n",
      " |-- Occupation: string (nullable = true)\n",
      " |-- Marital Status: string (nullable = true)\n",
      " |-- Family Size: integer (nullable = true)\n",
      " |-- Income: integer (nullable = true)\n",
      " |-- Expenditure: integer (nullable = true)\n",
      " |-- Use Frequency: integer (nullable = true)\n",
      " |-- Loan Category: string (nullable = true)\n",
      " |-- Loan Amount: string (nullable = true)\n",
      " |-- Overdue: integer (nullable = true)\n",
      " |--  Debt Record: string (nullable = true)\n",
      " |--  Returned Cheque: integer (nullable = true)\n",
      " |--  Dishonour of Bill: integer (nullable = true)\n",
      "\n"
     ]
    }
   ],
   "source": [
    "df.printSchema()"
   ]
  },
  {
   "cell_type": "code",
   "execution_count": null,
   "id": "c58eade1",
   "metadata": {},
   "outputs": [],
   "source": []
  },
  {
   "cell_type": "code",
   "execution_count": 75,
   "id": "6944b673",
   "metadata": {},
   "outputs": [],
   "source": [
    "df1 = df.withColumn('Loan Amount', regexp_replace('Loan Amount', ',', '')) \\\n",
    "    .withColumn('Loan Amount',col(\"Loan Amount\").cast('int')) \n",
    "# Replacing the string to the given String"
   ]
  },
  {
   "cell_type": "code",
   "execution_count": 76,
   "id": "02bb35d5",
   "metadata": {},
   "outputs": [
    {
     "name": "stdout",
     "output_type": "stream",
     "text": [
      "root\n",
      " |-- Customer_ID: string (nullable = true)\n",
      " |-- Age: integer (nullable = true)\n",
      " |-- Gender: string (nullable = true)\n",
      " |-- Occupation: string (nullable = true)\n",
      " |-- Marital Status: string (nullable = true)\n",
      " |-- Family Size: integer (nullable = true)\n",
      " |-- Income: integer (nullable = true)\n",
      " |-- Expenditure: integer (nullable = true)\n",
      " |-- Use Frequency: integer (nullable = true)\n",
      " |-- Loan Category: string (nullable = true)\n",
      " |-- Loan Amount: integer (nullable = true)\n",
      " |-- Overdue: integer (nullable = true)\n",
      " |--  Debt Record: string (nullable = true)\n",
      " |--  Returned Cheque: integer (nullable = true)\n",
      " |--  Dishonour of Bill: integer (nullable = true)\n",
      "\n"
     ]
    }
   ],
   "source": [
    "df1.printSchema()"
   ]
  },
  {
   "cell_type": "code",
   "execution_count": 77,
   "id": "57d7de22",
   "metadata": {},
   "outputs": [],
   "source": [
    "df2 = df1.filter(col(\"Loan Amount\")>100000).alias(\"More Amt\") # Loan Amount is Greater than 100000"
   ]
  },
  {
   "cell_type": "code",
   "execution_count": 82,
   "id": "1bd0a695",
   "metadata": {},
   "outputs": [
    {
     "name": "stdout",
     "output_type": "stream",
     "text": [
      "+-----------+---+------+-------------------+--------------+-----------+------+-----------+-------------+----------------+-----------+-------+------------+----------------+------------------+\n",
      "|Customer_ID|Age|Gender|Occupation         |Marital Status|Family Size|Income|Expenditure|Use Frequency|Loan Category   |Loan Amount|Overdue| Debt Record| Returned Cheque| Dishonour of Bill|\n",
      "+-----------+---+------+-------------------+--------------+-----------+------+-----------+-------------+----------------+-----------+-------+------------+----------------+------------------+\n",
      "|IB14001    |30 |MALE  |BANK MANAGER       |SINGLE        |4          |50000 |22199      |6            |HOUSING         |1000000    |5      |42,898      |6               |9                 |\n",
      "|IB14018    |29 |MALE  |TEACHER            |MARRIED       |5          |45767 |12787      |3            |GOLD LOAN       |600000     |7      |11,000      |0               |4                 |\n",
      "|IB14022    |34 |MALE  |POLICE             |SINGLE        |4          |43521 |11999      |3            |AUTOMOBILE      |200000     |2      |43,898      |1               |2                 |\n",
      "|IB14025    |39 |FEMALE|TEACHER            |MARRIED       |6          |46619 |18675      |4            |HOUSING         |1209867    |8      |29,999      |6               |8                 |\n",
      "|IB14029    |24 |FEMALE|TEACHER            |SINGLE        |3          |45008 |17454      |4            |AUTOMOBILE      |399435     |9      |51,987      |4               |7                 |\n",
      "|IB14039    |45 |MALE  |ACCOUNT MANAGER    |MARRIED       |7          |45777 |18452      |4            |GOLD LOAN       |987611     |7      |39,999      |8               |1                 |\n",
      "|IB14041    |59 |FEMALE|ASSISTANT PROFESSOR|MARRIED       |4          |50999 |22999      |5            |EDUCATIONAL LOAN|599934     |3      |9,000       |9               |9                 |\n",
      "|IB14042    |25 |FEMALE|DOCTOR             |SINGLE        |4          |60111 |27111      |5            |TRAVELLING      |1290929    |4      |18,000      |1               |0                 |\n",
      "|IB14045    |31 |MALE  |STORE KEEPER       |SINGLE        |5          |40999 |11999      |3            |BOOK STORES     |167654     |1      |4,500       |0               |1                 |\n",
      "|IB14050    |56 |MALE  |CIVIL ENGINEER     |MARRIED       |4          |null  |13999      |3            |HOUSING         |1065577    |6      |19,999      |4               |2                 |\n",
      "+-----------+---+------+-------------------+--------------+-----------+------+-----------+-------------+----------------+-----------+-------+------------+----------------+------------------+\n",
      "only showing top 10 rows\n",
      "\n"
     ]
    }
   ],
   "source": [
    "df2.show(10,False)"
   ]
  },
  {
   "cell_type": "code",
   "execution_count": 98,
   "id": "e809d4a3",
   "metadata": {},
   "outputs": [],
   "source": [
    "df3 = df2.groupBy(\"Loan Category\").agg(max(col(\"Loan Amount\")).alias(\"Max\")).orderBy(\"Max\", ascending=False)\n",
    "# Order by is use to sort and for descending we use ascending = False"
   ]
  },
  {
   "cell_type": "code",
   "execution_count": 99,
   "id": "aa57352b",
   "metadata": {},
   "outputs": [
    {
     "name": "stdout",
     "output_type": "stream",
     "text": [
      "+------------------+-------+\n",
      "|     Loan Category|    Max|\n",
      "+------------------+-------+\n",
      "|        AUTOMOBILE|7541236|\n",
      "|COMPUTER SOFTWARES|7541236|\n",
      "|  EDUCATIONAL LOAN|2569874|\n",
      "|           DINNING|2045789|\n",
      "|           HOUSING|2045789|\n",
      "|         GOLD LOAN|1773297|\n",
      "|          BUSINESS|1723786|\n",
      "|       ELECTRONICS|1719010|\n",
      "|       RESTAURANTS|1695573|\n",
      "|       AGRICULTURE|1682942|\n",
      "|        TRAVELLING|1659080|\n",
      "|        RESTAURANT|1582924|\n",
      "|          SHOPPING|1404969|\n",
      "|       BOOK STORES|1245789|\n",
      "|   HOME APPLIANCES|1190732|\n",
      "|          BUILDING| 745213|\n",
      "+------------------+-------+\n",
      "\n"
     ]
    }
   ],
   "source": [
    "df3.show()"
   ]
  },
  {
   "cell_type": "code",
   "execution_count": 102,
   "id": "aeb74120",
   "metadata": {},
   "outputs": [],
   "source": [
    "df4 = df.groupBy(\"Loan Category\").agg(count(col(\"Loan Category\")).alias(\"No of Loan Given Count\")).orderBy(\"No of Loan Given Count\")"
   ]
  },
  {
   "cell_type": "code",
   "execution_count": 103,
   "id": "86e2fa4a",
   "metadata": {},
   "outputs": [
    {
     "name": "stdout",
     "output_type": "stream",
     "text": [
      "+------------------+----------------------+\n",
      "|     Loan Category|No of Loan Given Count|\n",
      "+------------------+----------------------+\n",
      "|       BOOK STORES|                     7|\n",
      "|          BUILDING|                     7|\n",
      "|       AGRICULTURE|                    12|\n",
      "|       ELECTRONICS|                    14|\n",
      "|           DINNING|                    14|\n",
      "|   HOME APPLIANCES|                    14|\n",
      "|        RESTAURANT|                    20|\n",
      "|  EDUCATIONAL LOAN|                    20|\n",
      "|          BUSINESS|                    24|\n",
      "|          SHOPPING|                    35|\n",
      "|COMPUTER SOFTWARES|                    35|\n",
      "|       RESTAURANTS|                    41|\n",
      "|        TRAVELLING|                    53|\n",
      "|        AUTOMOBILE|                    60|\n",
      "|           HOUSING|                    67|\n",
      "|         GOLD LOAN|                    77|\n",
      "+------------------+----------------------+\n",
      "\n"
     ]
    },
    {
     "name": "stderr",
     "output_type": "stream",
     "text": [
      "22/04/23 18:57:46 WARN HeartbeatReceiver: Removing executor driver with no recent heartbeats: 926752 ms exceeds timeout 120000 ms\n",
      "22/04/23 18:57:46 WARN SparkContext: Killing executors is not supported by current scheduler.\n"
     ]
    }
   ],
   "source": [
    "df4.show()"
   ]
  },
  {
   "cell_type": "code",
   "execution_count": null,
   "id": "355c4e6d",
   "metadata": {},
   "outputs": [],
   "source": []
  }
 ],
 "metadata": {
  "kernelspec": {
   "display_name": "Python 3 (ipykernel)",
   "language": "python",
   "name": "python3"
  },
  "language_info": {
   "codemirror_mode": {
    "name": "ipython",
    "version": 3
   },
   "file_extension": ".py",
   "mimetype": "text/x-python",
   "name": "python",
   "nbconvert_exporter": "python",
   "pygments_lexer": "ipython3",
   "version": "3.9.7"
  }
 },
 "nbformat": 4,
 "nbformat_minor": 5
}
